{
 "cells": [
  {
   "cell_type": "markdown",
   "metadata": {
    "collapsed": true,
    "deletable": true,
    "editable": true
   },
   "source": [
    "# Image Classification\n",
    "In this project, you'll classify images from the [CIFAR-10 dataset](https://www.cs.toronto.edu/~kriz/cifar.html).  The dataset consists of airplanes, dogs, cats, and other objects. You'll preprocess the images, then train a convolutional neural network on all the samples. The images need to be normalized and the labels need to be one-hot encoded.  You'll get to apply what you learned and build a convolutional, max pooling, dropout, and fully connected layers.  At the end, you'll get to see your neural network's predictions on the sample images.\n",
    "## Get the Data\n",
    "Run the following cell to download the [CIFAR-10 dataset for python](https://www.cs.toronto.edu/~kriz/cifar-10-python.tar.gz)."
   ]
  },
  {
   "cell_type": "code",
   "execution_count": 1,
   "metadata": {
    "collapsed": false,
    "deletable": true,
    "editable": true
   },
   "outputs": [
    {
     "name": "stderr",
     "output_type": "stream",
     "text": [
      "CIFAR-10 Dataset: 171MB [04:02, 703KB/s]                               \n"
     ]
    },
    {
     "name": "stdout",
     "output_type": "stream",
     "text": [
      "All files found!\n"
     ]
    }
   ],
   "source": [
    "\"\"\"\n",
    "DON'T MODIFY ANYTHING IN THIS CELL THAT IS BELOW THIS LINE\n",
    "\"\"\"\n",
    "from urllib.request import urlretrieve\n",
    "from os.path import isfile, isdir\n",
    "from tqdm import tqdm\n",
    "import problem_unittests as tests\n",
    "import tarfile\n",
    "\n",
    "cifar10_dataset_folder_path = 'cifar-10-batches-py'\n",
    "\n",
    "# Use Floyd's cifar-10 dataset if present\n",
    "floyd_cifar10_location = '/input/cifar-10/python.tar.gz'\n",
    "if isfile(floyd_cifar10_location):\n",
    "    tar_gz_path = floyd_cifar10_location\n",
    "else:\n",
    "    tar_gz_path = 'cifar-10-python.tar.gz'\n",
    "\n",
    "class DLProgress(tqdm):\n",
    "    last_block = 0\n",
    "\n",
    "    def hook(self, block_num=1, block_size=1, total_size=None):\n",
    "        self.total = total_size\n",
    "        self.update((block_num - self.last_block) * block_size)\n",
    "        self.last_block = block_num\n",
    "\n",
    "if not isfile(tar_gz_path):\n",
    "    with DLProgress(unit='B', unit_scale=True, miniters=1, desc='CIFAR-10 Dataset') as pbar:\n",
    "        urlretrieve(\n",
    "            'https://www.cs.toronto.edu/~kriz/cifar-10-python.tar.gz',\n",
    "            tar_gz_path,\n",
    "            pbar.hook)\n",
    "\n",
    "if not isdir(cifar10_dataset_folder_path):\n",
    "    with tarfile.open(tar_gz_path) as tar:\n",
    "        tar.extractall()\n",
    "        tar.close()\n",
    "\n",
    "\n",
    "tests.test_folder_path(cifar10_dataset_folder_path)"
   ]
  },
  {
   "cell_type": "markdown",
   "metadata": {
    "deletable": true,
    "editable": true
   },
   "source": [
    "## Explore the Data\n",
    "The dataset is broken into batches to prevent your machine from running out of memory.  The CIFAR-10 dataset consists of 5 batches, named `data_batch_1`, `data_batch_2`, etc.. Each batch contains the labels and images that are one of the following:\n",
    "* airplane\n",
    "* automobile\n",
    "* bird\n",
    "* cat\n",
    "* deer\n",
    "* dog\n",
    "* frog\n",
    "* horse\n",
    "* ship\n",
    "* truck\n",
    "\n",
    "Understanding a dataset is part of making predictions on the data.  Play around with the code cell below by changing the `batch_id` and `sample_id`. The `batch_id` is the id for a batch (1-5). The `sample_id` is the id for a image and label pair in the batch.\n",
    "\n",
    "Ask yourself \"What are all possible labels?\", \"What is the range of values for the image data?\", \"Are the labels in order or random?\".  Answers to questions like these will help you preprocess the data and end up with better predictions."
   ]
  },
  {
   "cell_type": "code",
   "execution_count": 2,
   "metadata": {
    "collapsed": false,
    "deletable": true,
    "editable": true
   },
   "outputs": [
    {
     "name": "stdout",
     "output_type": "stream",
     "text": [
      "\n",
      "Stats of batch 1:\n",
      "Samples: 10000\n",
      "Label Counts: {0: 1005, 1: 974, 2: 1032, 3: 1016, 4: 999, 5: 937, 6: 1030, 7: 1001, 8: 1025, 9: 981}\n",
      "First 20 Labels: [6, 9, 9, 4, 1, 1, 2, 7, 8, 3, 4, 7, 7, 2, 9, 9, 9, 3, 2, 6]\n",
      "\n",
      "Example of Image 5:\n",
      "Image - Min Value: 0 Max Value: 252\n",
      "Image - Shape: (32, 32, 3)\n",
      "Label - Label Id: 1 Name: automobile\n"
     ]
    },
    {
     "data": {
      "image/png": "[encoded data removed]",
      "text/plain": [
       "<matplotlib.figure.Figure at 0x7fdb41f59a20>"
      ]
     },
     "metadata": {
      "image/png": {
       "height": 250,
       "width": 253
      }
     },
     "output_type": "display_data"
    }
   ],
   "source": [
    "%matplotlib inline\n",
    "%config InlineBackend.figure_format = 'retina'\n",
    "\n",
    "import helper\n",
    "import numpy as np\n",
    "\n",
    "# Explore the dataset\n",
    "batch_id = 1\n",
    "sample_id = 5\n",
    "helper.display_stats(cifar10_dataset_folder_path, batch_id, sample_id)"
   ]
  },
  {
   "cell_type": "markdown",
   "metadata": {
    "deletable": true,
    "editable": true
   },
   "source": [
    "## Implement Preprocess Functions\n",
    "### Normalize\n",
    "In the cell below, implement the `normalize` function to take in image data, `x`, and return it as a normalized Numpy array. The values should be in the range of 0 to 1, inclusive.  The return object should be the same shape as `x`."
   ]
  },
  {
   "cell_type": "code",
   "execution_count": 3,
   "metadata": {
    "collapsed": false,
    "deletable": true,
    "editable": true
   },
   "outputs": [
    {
     "name": "stdout",
     "output_type": "stream",
     "text": [
      "Tests Passed\n"
     ]
    }
   ],
   "source": [
    "def normalize(x):\n",
    "    \"\"\"\n",
    "    Normalize a list of sample image data in the range of 0 to 1\n",
    "    : x: List of image data.  The image shape is (32, 32, 3)\n",
    "    : return: Numpy array of normalize data\n",
    "    \"\"\"\n",
    "    # TODO: Implement Function\n",
    "    x = x/ 255\n",
    "    #print(x)\n",
    "    return x\n",
    "\n",
    "\n",
    "\"\"\"\n",
    "DON'T MODIFY ANYTHING IN THIS CELL THAT IS BELOW THIS LINE\n",
    "\"\"\"\n",
    "tests.test_normalize(normalize)"
   ]
  },
  {
   "cell_type": "markdown",
   "metadata": {
    "deletable": true,
    "editable": true
   },
   "source": [
    "### One-hot encode\n",
    "Just like the previous code cell, you'll be implementing a function for preprocessing.  This time, you'll implement the `one_hot_encode` function. The input, `x`, are a list of labels.  Implement the function to return the list of labels as One-Hot encoded Numpy array.  The possible values for labels are 0 to 9. The one-hot encoding function should return the same encoding for each value between each call to `one_hot_encode`.  Make sure to save the map of encodings outside the function.\n",
    "\n",
    "Hint: Don't reinvent the wheel."
   ]
  },
  {
   "cell_type": "code",
   "execution_count": 4,
   "metadata": {
    "collapsed": false,
    "deletable": true,
    "editable": true
   },
   "outputs": [
    {
     "name": "stdout",
     "output_type": "stream",
     "text": [
      "Tests Passed\n"
     ]
    }
   ],
   "source": [
    "def one_hot_encode(x):\n",
    "    \"\"\"\n",
    "    One hot encode a list of sample labels. Return a one-hot encoded vector for each label.\n",
    "    : x: List of sample Labels\n",
    "    : return: Numpy array of one-hot encoded labels\n",
    "    \"\"\"\n",
    "    # TODO: Implement Function\n",
    "    length = len(x)\n",
    "    empty = np.array(np.zeros((length,10),dtype=np.int))\n",
    "    \n",
    "    for index,label in enumerate(x):\n",
    "        empty[index,label] = 1\n",
    "    return empty\n",
    "\n",
    "\n",
    "\"\"\"\n",
    "DON'T MODIFY ANYTHING IN THIS CELL THAT IS BELOW THIS LINE\n",
    "\"\"\"\n",
    "tests.test_one_hot_encode(one_hot_encode)"
   ]
  },
  {
   "cell_type": "markdown",
   "metadata": {
    "deletable": true,
    "editable": true
   },
   "source": [
    "### Randomize Data\n",
    "As you saw from exploring the data above, the order of the samples are randomized.  It doesn't hurt to randomize it again, but you don't need to for this dataset."
   ]
  },
  {
   "cell_type": "markdown",
   "metadata": {
    "deletable": true,
    "editable": true
   },
   "source": [
    "## Preprocess all the data and save it\n",
    "Running the code cell below will preprocess all the CIFAR-10 data and save it to file. The code below also uses 10% of the training data for validation."
   ]
  },
  {
   "cell_type": "code",
   "execution_count": 6,
   "metadata": {
    "collapsed": false,
    "deletable": true,
    "editable": true
   },
   "outputs": [],
   "source": [
    "\"\"\"\n",
    "DON'T MODIFY ANYTHING IN THIS CELL\n",
    "\"\"\"\n",
    "# Preprocess Training, Validation, and Testing Data\n",
    "helper.preprocess_and_save_data(cifar10_dataset_folder_path, normalize, one_hot_encode)"
   ]
  },
  {
   "cell_type": "markdown",
   "metadata": {
    "deletable": true,
    "editable": true
   },
   "source": [
    "# Check Point\n",
    "This is your first checkpoint.  If you ever decide to come back to this notebook or have to restart the notebook, you can start from here.  The preprocessed data has been saved to disk."
   ]
  },
  {
   "cell_type": "code",
   "execution_count": 7,
   "metadata": {
    "collapsed": true,
    "deletable": true,
    "editable": true
   },
   "outputs": [],
   "source": [
    "\"\"\"\n",
    "DON'T MODIFY ANYTHING IN THIS CELL\n",
    "\"\"\"\n",
    "import pickle\n",
    "import problem_unittests as tests\n",
    "import helper\n",
    "\n",
    "# Load the Preprocessed Validation data\n",
    "valid_features, valid_labels = pickle.load(open('preprocess_validation.p', mode='rb'))"
   ]
  },
  {
   "cell_type": "markdown",
   "metadata": {
    "deletable": true,
    "editable": true
   },
   "source": [
    "## Build the network\n",
    "For the neural network, you'll build each layer into a function.  Most of the code you've seen has been outside of functions. To test your code more thoroughly, we require that you put each layer in a function.  This allows us to give you better feedback and test for simple mistakes using our unittests before you submit your project.\n",
    "\n",
    ">**Note:** If you're finding it hard to dedicate enough time for this course each week, we've provided a small shortcut to this part of the project. In the next couple of problems, you'll have the option to use classes from the [TensorFlow Layers](https://www.tensorflow.org/api_docs/python/tf/layers) or [TensorFlow Layers (contrib)](https://www.tensorflow.org/api_guides/python/contrib.layers) packages to build each layer, except the layers you build in the \"Convolutional and Max Pooling Layer\" section.  TF Layers is similar to Keras's and TFLearn's abstraction to layers, so it's easy to pickup.\n",
    "\n",
    ">However, if you would like to get the most out of this course, try to solve all the problems _without_ using anything from the TF Layers packages. You **can** still use classes from other packages that happen to have the same name as ones you find in TF Layers! For example, instead of using the TF Layers version of the `conv2d` class, [tf.layers.conv2d](https://www.tensorflow.org/api_docs/python/tf/layers/conv2d), you would want to use the TF Neural Network version of `conv2d`, [tf.nn.conv2d](https://www.tensorflow.org/api_docs/python/tf/nn/conv2d). \n",
    "\n",
    "Let's begin!\n",
    "\n",
    "### Input\n",
    "The neural network needs to read the image data, one-hot encoded labels, and dropout keep probability. Implement the following functions\n",
    "* Implement `neural_net_image_input`\n",
    " * Return a [TF Placeholder](https://www.tensorflow.org/api_docs/python/tf/placeholder)\n",
    " * Set the shape using `image_shape` with batch size set to `None`.\n",
    " * Name the TensorFlow placeholder \"x\" using the TensorFlow `name` parameter in the [TF Placeholder](https://www.tensorflow.org/api_docs/python/tf/placeholder).\n",
    "* Implement `neural_net_label_input`\n",
    " * Return a [TF Placeholder](https://www.tensorflow.org/api_docs/python/tf/placeholder)\n",
    " * Set the shape using `n_classes` with batch size set to `None`.\n",
    " * Name the TensorFlow placeholder \"y\" using the TensorFlow `name` parameter in the [TF Placeholder](https://www.tensorflow.org/api_docs/python/tf/placeholder).\n",
    "* Implement `neural_net_keep_prob_input`\n",
    " * Return a [TF Placeholder](https://www.tensorflow.org/api_docs/python/tf/placeholder) for dropout keep probability.\n",
    " * Name the TensorFlow placeholder \"keep_prob\" using the TensorFlow `name` parameter in the [TF Placeholder](https://www.tensorflow.org/api_docs/python/tf/placeholder).\n",
    "\n",
    "These names will be used at the end of the project to load your saved model.\n",
    "\n",
    "Note: `None` for shapes in TensorFlow allow for a dynamic size."
   ]
  },
  {
   "cell_type": "code",
   "execution_count": 8,
   "metadata": {
    "collapsed": false,
    "deletable": true,
    "editable": true
   },
   "outputs": [
    {
     "name": "stdout",
     "output_type": "stream",
     "text": [
      "Image Input Tests Passed.\n",
      "Label Input Tests Passed.\n",
      "Keep Prob Tests Passed.\n"
     ]
    }
   ],
   "source": [
    "import tensorflow as tf\n",
    "\n",
    "def neural_net_image_input(image_shape):\n",
    "    \"\"\"\n",
    "    Return a Tensor for a batch of image input\n",
    "    : image_shape: Shape of the images\n",
    "    : return: Tensor for image input.\n",
    "    \"\"\"\n",
    "    # TODO: Implement Function\n",
    "    x = tf.placeholder(tf.float32,shape=[None,image_shape[0],image_shape[1],image_shape[2]],name='x')\n",
    "    return x\n",
    "\n",
    "\n",
    "def neural_net_label_input(n_classes):\n",
    "    \"\"\"\n",
    "    Return a Tensor for a batch of label input\n",
    "    : n_classes: Number of classes\n",
    "    : return: Tensor for label input.\n",
    "    \"\"\"\n",
    "    # TODO: Implement Function\n",
    "    y = tf.placeholder(tf.float32,[None, n_classes], name='y')\n",
    "    return y\n",
    "\n",
    "\n",
    "def neural_net_keep_prob_input():\n",
    "    \"\"\"\n",
    "    Return a Tensor for keep probability\n",
    "    : return: Tensor for keep probability.\n",
    "    \"\"\"\n",
    "    # TODO: Implement Function\n",
    "    keep_prob = tf.placeholder(tf.float32,shape=None, name='keep_prob')\n",
    "    return keep_prob\n",
    "\n",
    "\"\"\"\n",
    "DON'T MODIFY ANYTHING IN THIS CELL THAT IS BELOW THIS LINE\n",
    "\"\"\"\n",
    "tf.reset_default_graph()\n",
    "tests.test_nn_image_inputs(neural_net_image_input)\n",
    "tests.test_nn_label_inputs(neural_net_label_input)\n",
    "tests.test_nn_keep_prob_inputs(neural_net_keep_prob_input)"
   ]
  },
  {
   "cell_type": "markdown",
   "metadata": {
    "deletable": true,
    "editable": true
   },
   "source": [
    "### Convolution and Max Pooling Layer\n",
    "Convolution layers have a lot of success with images. For this code cell, you should implement the function `conv2d_maxpool` to apply convolution then max pooling:\n",
    "* Create the weight and bias using `conv_ksize`, `conv_num_outputs` and the shape of `x_tensor`.\n",
    "* Apply a convolution to `x_tensor` using weight and `conv_strides`.\n",
    " * We recommend you use same padding, but you're welcome to use any padding.\n",
    "* Add bias\n",
    "* Add a nonlinear activation to the convolution.\n",
    "* Apply Max Pooling using `pool_ksize` and `pool_strides`.\n",
    " * We recommend you use same padding, but you're welcome to use any padding.\n",
    "\n",
    "**Note:** You **can't** use [TensorFlow Layers](https://www.tensorflow.org/api_docs/python/tf/layers) or [TensorFlow Layers (contrib)](https://www.tensorflow.org/api_guides/python/contrib.layers) for **this** layer, but you can still use TensorFlow's [Neural Network](https://www.tensorflow.org/api_docs/python/tf/nn) package. You may still use the shortcut option for all the **other** layers."
   ]
  },
  {
   "cell_type": "code",
   "execution_count": 9,
   "metadata": {
    "collapsed": false,
    "deletable": true,
    "editable": true
   },
   "outputs": [
    {
     "name": "stdout",
     "output_type": "stream",
     "text": [
      "Tests Passed\n"
     ]
    }
   ],
   "source": [
    "def conv2d_maxpool(x_tensor, conv_num_outputs, conv_ksize, conv_strides, pool_ksize, pool_strides):\n",
    "    \"\"\"\n",
    "    :param conv_num_outputs: Number of outputs for the convolutional layer\n",
    "    :param conv_ksize: kernal size 2-D Tuple for the convolutional layer\n",
    "    :param conv_strides: Stride 2-D Tuple for convolution\n",
    "\n",
    "    \"\"\"\n",
    "    input_depth = tf.cast(x_tensor.get_shape()[3], tf.int32)\n",
    "    ##https://docs.python.org/3/tutorial/controlflow.html#unpacking-argument-lists\n",
    "    ### * unpacks element of a list or tuple\n",
    "    weights = tf.Variable(tf.truncated_normal((*conv_ksize, input_depth, conv_num_outputs), stddev=0.1))\n",
    "    bias = tf.Variable(tf.zeros(conv_num_outputs))\n",
    "\n",
    "\n",
    "    # TODO: Implement Function\n",
    "    layer = tf.nn.conv2d(x_tensor, weights, strides=[1, *conv_strides, 1], padding='SAME')\n",
    "    layer = tf.nn.bias_add(layer, bias)\n",
    "    layer = tf.nn.relu(layer)\n",
    "    \n",
    "    layer = tf.nn.max_pool(layer,ksize=[1, *pool_ksize, 1], strides=[1, *pool_strides, 1],padding='SAME')\n",
    "    return layer \n",
    "\n",
    "\"\"\"\n",
    "DON'T MODIFY ANYTHING IN THIS CELL THAT IS BELOW THIS LINE\n",
    "\"\"\"\n",
    "tests.test_con_pool(conv2d_maxpool)"
   ]
  },
  {
   "cell_type": "markdown",
   "metadata": {
    "deletable": true,
    "editable": true
   },
   "source": [
    "### Flatten Layer\n",
    "Implement the `flatten` function to change the dimension of `x_tensor` from a 4-D tensor to a 2-D tensor.  The output should be the shape (*Batch Size*, *Flattened Image Size*). Shortcut option: you can use classes from the [TensorFlow Layers](https://www.tensorflow.org/api_docs/python/tf/layers) or [TensorFlow Layers (contrib)](https://www.tensorflow.org/api_guides/python/contrib.layers) packages for this layer. For more of a challenge, only use other TensorFlow packages."
   ]
  },
  {
   "cell_type": "code",
   "execution_count": 10,
   "metadata": {
    "collapsed": false,
    "deletable": true,
    "editable": true
   },
   "outputs": [
    {
     "name": "stdout",
     "output_type": "stream",
     "text": [
      "Tests Passed\n"
     ]
    }
   ],
   "source": [
    "def flatten(x_tensor):\n",
    "    \"\"\"\n",
    "    Flatten x_tensor to (Batch Size, Flattened Image Size)\n",
    "    : x_tensor: A tensor of size (Batch Size, ...), where ... are the image dimensions.\n",
    "    : return: A tensor of size (Batch Size, Flattened Image Size).\n",
    "    \"\"\"\n",
    "    # TODO: Implement Function\n",
    "    return tf.contrib.layers.flatten(x_tensor)\n",
    "\n",
    "\n",
    "\"\"\"\n",
    "DON'T MODIFY ANYTHING IN THIS CELL THAT IS BELOW THIS LINE\n",
    "\"\"\"\n",
    "tests.test_flatten(flatten)"
   ]
  },
  {
   "cell_type": "markdown",
   "metadata": {
    "deletable": true,
    "editable": true
   },
   "source": [
    "### Fully-Connected Layer\n",
    "Implement the `fully_conn` function to apply a fully connected layer to `x_tensor` with the shape (*Batch Size*, *num_outputs*). Shortcut option: you can use classes from the [TensorFlow Layers](https://www.tensorflow.org/api_docs/python/tf/layers) or [TensorFlow Layers (contrib)](https://www.tensorflow.org/api_guides/python/contrib.layers) packages for this layer. For more of a challenge, only use other TensorFlow packages."
   ]
  },
  {
   "cell_type": "code",
   "execution_count": 11,
   "metadata": {
    "collapsed": false,
    "deletable": true,
    "editable": true
   },
   "outputs": [
    {
     "name": "stdout",
     "output_type": "stream",
     "text": [
      "Tests Passed\n"
     ]
    }
   ],
   "source": [
    "def fully_conn(x_tensor, num_outputs):\n",
    "    \"\"\"\n",
    "    Apply a fully connected layer to x_tensor using weight and bias\n",
    "    : x_tensor: A 2-D tensor where the first dimension is batch size.\n",
    "    : num_outputs: The number of output that the new tensor should be.\n",
    "    : return: A 2-D tensor where the second dimension is num_outputs.\n",
    "    \"\"\"\n",
    "    # TODO: Implement Function\n",
    "    return tf.contrib.layers.fully_connected(x_tensor,num_outputs)\n",
    "\n",
    "\n",
    "\n",
    "\"\"\"\n",
    "DON'T MODIFY ANYTHING IN THIS CELL THAT IS BELOW THIS LINE\n",
    "\"\"\"\n",
    "tests.test_fully_conn(fully_conn)"
   ]
  },
  {
   "cell_type": "markdown",
   "metadata": {
    "deletable": true,
    "editable": true
   },
   "source": [
    "### Output Layer\n",
    "Implement the `output` function to apply a fully connected layer to `x_tensor` with the shape (*Batch Size*, *num_outputs*). Shortcut option: you can use classes from the [TensorFlow Layers](https://www.tensorflow.org/api_docs/python/tf/layers) or [TensorFlow Layers (contrib)](https://www.tensorflow.org/api_guides/python/contrib.layers) packages for this layer. For more of a challenge, only use other TensorFlow packages.\n",
    "\n",
    "**Note:** Activation, softmax, or cross entropy should **not** be applied to this."
   ]
  },
  {
   "cell_type": "code",
   "execution_count": 12,
   "metadata": {
    "collapsed": false,
    "deletable": true,
    "editable": true
   },
   "outputs": [
    {
     "name": "stdout",
     "output_type": "stream",
     "text": [
      "Tests Passed\n"
     ]
    }
   ],
   "source": [
    "def output(x_tensor, num_outputs):\n",
    "    \"\"\"\n",
    "    Apply a output layer to x_tensor using weight and bias\n",
    "    : x_tensor: A 2-D tensor where the first dimension is batch size.\n",
    "    : num_outputs: The number of output that the new tensor should be.\n",
    "    : return: A 2-D tensor where the second dimension is num_outputs.\n",
    "    \"\"\"\n",
    "    # TODO: Implement Function\n",
    "    return tf.contrib.layers.fully_connected(x_tensor, num_outputs, activation_fn=None)\n",
    "\n",
    "\n",
    "\"\"\"\n",
    "DON'T MODIFY ANYTHING IN THIS CELL THAT IS BELOW THIS LINE\n",
    "\"\"\"\n",
    "tests.test_output(output)"
   ]
  },
  {
   "cell_type": "markdown",
   "metadata": {
    "deletable": true,
    "editable": true
   },
   "source": [
    "### Create Convolutional Model\n",
    "Implement the function `conv_net` to create a convolutional neural network model. The function takes in a batch of images, `x`, and outputs logits.  Use the layers you created above to create this model:\n",
    "\n",
    "* Apply 1, 2, or 3 Convolution and Max Pool layers\n",
    "* Apply a Flatten Layer\n",
    "* Apply 1, 2, or 3 Fully Connected Layers\n",
    "* Apply an Output Layer\n",
    "* Return the output\n",
    "* Apply [TensorFlow's Dropout](https://www.tensorflow.org/api_docs/python/tf/nn/dropout) to one or more layers in the model using `keep_prob`. "
   ]
  },
  {
   "cell_type": "code",
   "execution_count": 13,
   "metadata": {
    "collapsed": false,
    "deletable": true,
    "editable": true
   },
   "outputs": [
    {
     "name": "stdout",
     "output_type": "stream",
     "text": [
      "Neural Network Built!\n"
     ]
    }
   ],
   "source": [
    "def conv_net(x, keep_prob):\n",
    "    \"\"\"\n",
    "    Create a convolutional neural network model\n",
    "    : x: Placeholder tensor that holds image data.\n",
    "    : keep_prob: Placeholder tensor that hold dropout keep probability.\n",
    "    : return: Tensor that represents logits\n",
    "    \"\"\"\n",
    "    # TODO: Apply 1, 2, or 3 Convolution and Max Pool layers\n",
    "    #    Play around with different number of outputs, kernel size and stride\n",
    "    # Function Definition from Above:\n",
    "    #    conv2d_maxpool(x_tensor, conv_num_outputs, conv_ksize, conv_strides, pool_ksize, pool_strides)\n",
    "    conv = conv2d_maxpool(x, 32, (5,5), (1,1), (2,2), (2,2))\n",
    "    conv = conv2d_maxpool(conv, 64, (5,5), (1,1), (2,2), (2,2))\n",
    "    conv = conv2d_maxpool(conv, 128, (5,5), (1,1), (2,2), (2,2))\n",
    "\n",
    "    # TODO: Apply a Flatten Layer\n",
    "    # Function Definition from Above:\n",
    "    #   flatten(x_tensor)\n",
    "    flat = flatten(conv)\n",
    "\n",
    "    # TODO: Apply 1, 2, or 3 Fully Connected Layers\n",
    "    #    Play around with different number of outputs\n",
    "    # Function Definition from Above:\n",
    "    #   fully_conn(x_tensor, num_outputs)\n",
    "    fully = fully_conn(flat, 512)\n",
    "    fully = tf.nn.dropout(fully, keep_prob)\n",
    "    \n",
    "    # TODO: Apply an Output Layer\n",
    "    #    Set this to the number of classes\n",
    "    # Function Definition from Above:\n",
    "    #   output(x_tensor, num_outputs)\n",
    "    fully = output(fully, 10)\n",
    "    \n",
    "    # TODO: return output\n",
    "    return fully\n",
    "\n",
    "\n",
    "\n",
    "\"\"\"\n",
    "DON'T MODIFY ANYTHING IN THIS CELL THAT IS BELOW THIS LINE\n",
    "\"\"\"\n",
    "\n",
    "##############################\n",
    "## Build the Neural Network ##\n",
    "##############################\n",
    "\n",
    "# Remove previous weights, bias, inputs, etc..\n",
    "tf.reset_default_graph()\n",
    "\n",
    "# Inputs\n",
    "x = neural_net_image_input((32, 32, 3))\n",
    "y = neural_net_label_input(10)\n",
    "keep_prob = neural_net_keep_prob_input()\n",
    "\n",
    "# Model\n",
    "logits = conv_net(x, keep_prob)\n",
    "\n",
    "# Name logits Tensor, so that is can be loaded from disk after training\n",
    "logits = tf.identity(logits, name='logits')\n",
    "\n",
    "# Loss and Optimizer\n",
    "cost = tf.reduce_mean(tf.nn.softmax_cross_entropy_with_logits(logits=logits, labels=y))\n",
    "optimizer = tf.train.AdamOptimizer().minimize(cost)\n",
    "\n",
    "# Accuracy\n",
    "correct_pred = tf.equal(tf.argmax(logits, 1), tf.argmax(y, 1))\n",
    "accuracy = tf.reduce_mean(tf.cast(correct_pred, tf.float32), name='accuracy')\n",
    "\n",
    "tests.test_conv_net(conv_net)"
   ]
  },
  {
   "cell_type": "markdown",
   "metadata": {
    "deletable": true,
    "editable": true
   },
   "source": [
    "## Train the Neural Network\n",
    "### Single Optimization\n",
    "Implement the function `train_neural_network` to do a single optimization.  The optimization should use `optimizer` to optimize in `session` with a `feed_dict` of the following:\n",
    "* `x` for image input\n",
    "* `y` for labels\n",
    "* `keep_prob` for keep probability for dropout\n",
    "\n",
    "This function will be called for each batch, so `tf.global_variables_initializer()` has already been called.\n",
    "\n",
    "Note: Nothing needs to be returned. This function is only optimizing the neural network."
   ]
  },
  {
   "cell_type": "code",
   "execution_count": 14,
   "metadata": {
    "collapsed": false,
    "deletable": true,
    "editable": true
   },
   "outputs": [
    {
     "name": "stdout",
     "output_type": "stream",
     "text": [
      "Tests Passed\n"
     ]
    }
   ],
   "source": [
    "def train_neural_network(session, optimizer, keep_probability, feature_batch, label_batch):\n",
    "    \"\"\"\n",
    "    Optimize the session on a batch of images and labels\n",
    "    : session: Current TensorFlow session\n",
    "    : optimizer: TensorFlow optimizer function\n",
    "    : keep_probability: keep probability\n",
    "    : feature_batch: Batch of Numpy image data\n",
    "    : label_batch: Batch of Numpy label data\n",
    "    \"\"\"\n",
    "    # TODO: Implement Function\n",
    "    session.run(optimizer, feed_dict={x: feature_batch, y: label_batch,keep_prob: keep_probability})\n",
    "\n",
    "\n",
    "\n",
    "\"\"\"\n",
    "DON'T MODIFY ANYTHING IN THIS CELL THAT IS BELOW THIS LINE\n",
    "\"\"\"\n",
    "tests.test_train_nn(train_neural_network)"
   ]
  },
  {
   "cell_type": "markdown",
   "metadata": {
    "deletable": true,
    "editable": true
   },
   "source": [
    "### Show Stats\n",
    "Implement the function `print_stats` to print loss and validation accuracy.  Use the global variables `valid_features` and `valid_labels` to calculate validation accuracy.  Use a keep probability of `1.0` to calculate the loss and validation accuracy."
   ]
  },
  {
   "cell_type": "code",
   "execution_count": 16,
   "metadata": {
    "collapsed": false,
    "deletable": true,
    "editable": true
   },
   "outputs": [],
   "source": [
    "def print_stats(session, feature_batch, label_batch, cost, accuracy):\n",
    "    \"\"\"\n",
    "    Print information about loss and validation accuracy\n",
    "    : session: Current TensorFlow session\n",
    "    : feature_batch: Batch of Numpy image data\n",
    "    : label_batch: Batch of Numpy label data\n",
    "    : cost: TensorFlow cost function\n",
    "    : accuracy: TensorFlow accuracy function\n",
    "    \"\"\"\n",
    "    # TODO: Implement Function\n",
    "    loss = session.run(cost, feed_dict={x: feature_batch, y: label_batch, keep_prob: 1.0})\n",
    "    valid_acc = session.run(accuracy, feed_dict={x: valid_features, y: valid_labels, keep_prob: 1.0})    \n",
    "    print(\", Loss = {:.5f}\".format(loss) \\\n",
    "        + \", Validation Accuracy = {:.4f}\".format(valid_acc))"
   ]
  },
  {
   "cell_type": "markdown",
   "metadata": {
    "deletable": true,
    "editable": true
   },
   "source": [
    "### Hyperparameters\n",
    "Tune the following parameters:\n",
    "* Set `epochs` to the number of iterations until the network stops learning or start overfitting\n",
    "* Set `batch_size` to the highest number that your machine has memory for.  Most people set them to common sizes of memory:\n",
    " * 64\n",
    " * 128\n",
    " * 256\n",
    " * ...\n",
    "* Set `keep_probability` to the probability of keeping a node using dropout"
   ]
  },
  {
   "cell_type": "code",
   "execution_count": 20,
   "metadata": {
    "collapsed": true,
    "deletable": true,
    "editable": true
   },
   "outputs": [],
   "source": [
    "# TODO: Tune Parameters\n",
    "epochs = 26 # learning rate improvement remains flat at around 15 iterations but loss kept decreasing \n",
    "batch_size = 128\n",
    "keep_probability = 0.5"
   ]
  },
  {
   "cell_type": "markdown",
   "metadata": {
    "deletable": true,
    "editable": true
   },
   "source": [
    "### Train on a Single CIFAR-10 Batch\n",
    "Instead of training the neural network on all the CIFAR-10 batches of data, let's use a single batch. This should save time while you iterate on the model to get a better accuracy.  Once the final validation accuracy is 50% or greater, run the model on all the data in the next section."
   ]
  },
  {
   "cell_type": "code",
   "execution_count": 21,
   "metadata": {
    "collapsed": false,
    "deletable": true,
    "editable": true
   },
   "outputs": [
    {
     "name": "stdout",
     "output_type": "stream",
     "text": [
      "Checking the Training on a Single Batch...\n",
      "Epoch  1, CIFAR-10 Batch 1:  , Loss = 1.89720, Validation Accuracy = 0.3652\n",
      "Epoch  2, CIFAR-10 Batch 1:  , Loss = 1.59053, Validation Accuracy = 0.4454\n",
      "Epoch  3, CIFAR-10 Batch 1:  , Loss = 1.32948, Validation Accuracy = 0.4674\n",
      "Epoch  4, CIFAR-10 Batch 1:  , Loss = 1.05270, Validation Accuracy = 0.5304\n",
      "Epoch  5, CIFAR-10 Batch 1:  , Loss = 0.83245, Validation Accuracy = 0.5286\n",
      "Epoch  6, CIFAR-10 Batch 1:  , Loss = 0.72882, Validation Accuracy = 0.5414\n",
      "Epoch  7, CIFAR-10 Batch 1:  , Loss = 0.59408, Validation Accuracy = 0.5590\n",
      "Epoch  8, CIFAR-10 Batch 1:  , Loss = 0.48362, Validation Accuracy = 0.5554\n",
      "Epoch  9, CIFAR-10 Batch 1:  , Loss = 0.41588, Validation Accuracy = 0.5598\n",
      "Epoch 10, CIFAR-10 Batch 1:  , Loss = 0.28256, Validation Accuracy = 0.5610\n",
      "Epoch 11, CIFAR-10 Batch 1:  , Loss = 0.26491, Validation Accuracy = 0.5374\n",
      "Epoch 12, CIFAR-10 Batch 1:  , Loss = 0.21403, Validation Accuracy = 0.5306\n",
      "Epoch 13, CIFAR-10 Batch 1:  , Loss = 0.16665, Validation Accuracy = 0.5736\n",
      "Epoch 14, CIFAR-10 Batch 1:  , Loss = 0.09862, Validation Accuracy = 0.5738\n",
      "Epoch 15, CIFAR-10 Batch 1:  , Loss = 0.07519, Validation Accuracy = 0.5756\n",
      "Epoch 16, CIFAR-10 Batch 1:  , Loss = 0.07377, Validation Accuracy = 0.5598\n",
      "Epoch 17, CIFAR-10 Batch 1:  , Loss = 0.04500, Validation Accuracy = 0.5666\n",
      "Epoch 18, CIFAR-10 Batch 1:  , Loss = 0.02674, Validation Accuracy = 0.5724\n",
      "Epoch 19, CIFAR-10 Batch 1:  , Loss = 0.03255, Validation Accuracy = 0.5772\n",
      "Epoch 20, CIFAR-10 Batch 1:  , Loss = 0.02257, Validation Accuracy = 0.5718\n",
      "Epoch 21, CIFAR-10 Batch 1:  , Loss = 0.00909, Validation Accuracy = 0.5644\n",
      "Epoch 22, CIFAR-10 Batch 1:  , Loss = 0.00892, Validation Accuracy = 0.5710\n",
      "Epoch 23, CIFAR-10 Batch 1:  , Loss = 0.01626, Validation Accuracy = 0.5584\n",
      "Epoch 24, CIFAR-10 Batch 1:  , Loss = 0.00364, Validation Accuracy = 0.5796\n",
      "Epoch 25, CIFAR-10 Batch 1:  , Loss = 0.00388, Validation Accuracy = 0.5782\n",
      "Epoch 26, CIFAR-10 Batch 1:  , Loss = 0.00511, Validation Accuracy = 0.5648\n"
     ]
    }
   ],
   "source": [
    "\"\"\"\n",
    "DON'T MODIFY ANYTHING IN THIS CELL\n",
    "\"\"\"\n",
    "print('Checking the Training on a Single Batch...')\n",
    "with tf.Session() as sess:\n",
    "    # Initializing the variables\n",
    "    sess.run(tf.global_variables_initializer())\n",
    "    \n",
    "    # Training cycle\n",
    "    for epoch in range(epochs):\n",
    "        batch_i = 1\n",
    "        for batch_features, batch_labels in helper.load_preprocess_training_batch(batch_i, batch_size):\n",
    "            train_neural_network(sess, optimizer, keep_probability, batch_features, batch_labels)\n",
    "        print('Epoch {:>2}, CIFAR-10 Batch {}:  '.format(epoch + 1, batch_i), end='')\n",
    "        print_stats(sess, batch_features, batch_labels, cost, accuracy)"
   ]
  },
  {
   "cell_type": "markdown",
   "metadata": {
    "deletable": true,
    "editable": true
   },
   "source": [
    "### Fully Train the Model\n",
    "Now that you got a good accuracy with a single CIFAR-10 batch, try it with all five batches."
   ]
  },
  {
   "cell_type": "code",
   "execution_count": 22,
   "metadata": {
    "collapsed": false,
    "deletable": true,
    "editable": true
   },
   "outputs": [
    {
     "name": "stdout",
     "output_type": "stream",
     "text": [
      "Training...\n",
      "Epoch  1, CIFAR-10 Batch 1:  , Loss = 2.06057, Validation Accuracy = 0.3690\n",
      "Epoch  1, CIFAR-10 Batch 2:  , Loss = 1.56181, Validation Accuracy = 0.4332\n",
      "Epoch  1, CIFAR-10 Batch 3:  , Loss = 1.34396, Validation Accuracy = 0.4702\n",
      "Epoch  1, CIFAR-10 Batch 4:  , Loss = 1.39406, Validation Accuracy = 0.4966\n",
      "Epoch  1, CIFAR-10 Batch 5:  , Loss = 1.34672, Validation Accuracy = 0.5454\n",
      "Epoch  2, CIFAR-10 Batch 1:  , Loss = 1.35669, Validation Accuracy = 0.5188\n",
      "Epoch  2, CIFAR-10 Batch 2:  , Loss = 1.14923, Validation Accuracy = 0.5238\n",
      "Epoch  2, CIFAR-10 Batch 3:  , Loss = 1.00203, Validation Accuracy = 0.5542\n",
      "Epoch  2, CIFAR-10 Batch 4:  , Loss = 1.03362, Validation Accuracy = 0.5908\n",
      "Epoch  2, CIFAR-10 Batch 5:  , Loss = 1.00864, Validation Accuracy = 0.6062\n",
      "Epoch  3, CIFAR-10 Batch 1:  , Loss = 1.11235, Validation Accuracy = 0.6000\n",
      "Epoch  3, CIFAR-10 Batch 2:  , Loss = 0.77586, Validation Accuracy = 0.6212\n",
      "Epoch  3, CIFAR-10 Batch 3:  , Loss = 0.64618, Validation Accuracy = 0.6270\n",
      "Epoch  3, CIFAR-10 Batch 4:  , Loss = 0.78496, Validation Accuracy = 0.6242\n",
      "Epoch  3, CIFAR-10 Batch 5:  , Loss = 0.72385, Validation Accuracy = 0.6524\n",
      "Epoch  4, CIFAR-10 Batch 1:  , Loss = 0.89284, Validation Accuracy = 0.6466\n",
      "Epoch  4, CIFAR-10 Batch 2:  , Loss = 0.62398, Validation Accuracy = 0.6540\n",
      "Epoch  4, CIFAR-10 Batch 3:  , Loss = 0.47407, Validation Accuracy = 0.6530\n",
      "Epoch  4, CIFAR-10 Batch 4:  , Loss = 0.55748, Validation Accuracy = 0.6564\n",
      "Epoch  4, CIFAR-10 Batch 5:  , Loss = 0.52612, Validation Accuracy = 0.6728\n",
      "Epoch  5, CIFAR-10 Batch 1:  , Loss = 0.65015, Validation Accuracy = 0.6548\n",
      "Epoch  5, CIFAR-10 Batch 2:  , Loss = 0.46020, Validation Accuracy = 0.6740\n",
      "Epoch  5, CIFAR-10 Batch 3:  , Loss = 0.36850, Validation Accuracy = 0.6504\n",
      "Epoch  5, CIFAR-10 Batch 4:  , Loss = 0.40575, Validation Accuracy = 0.6866\n",
      "Epoch  5, CIFAR-10 Batch 5:  , Loss = 0.33058, Validation Accuracy = 0.6760\n",
      "Epoch  6, CIFAR-10 Batch 1:  , Loss = 0.45837, Validation Accuracy = 0.6782\n",
      "Epoch  6, CIFAR-10 Batch 2:  , Loss = 0.35449, Validation Accuracy = 0.6772\n",
      "Epoch  6, CIFAR-10 Batch 3:  , Loss = 0.27410, Validation Accuracy = 0.6872\n",
      "Epoch  6, CIFAR-10 Batch 4:  , Loss = 0.32683, Validation Accuracy = 0.6854\n",
      "Epoch  6, CIFAR-10 Batch 5:  , Loss = 0.23635, Validation Accuracy = 0.6818\n",
      "Epoch  7, CIFAR-10 Batch 1:  , Loss = 0.33812, Validation Accuracy = 0.6938\n",
      "Epoch  7, CIFAR-10 Batch 2:  , Loss = 0.28482, Validation Accuracy = 0.6926\n",
      "Epoch  7, CIFAR-10 Batch 3:  , Loss = 0.18463, Validation Accuracy = 0.6784\n",
      "Epoch  7, CIFAR-10 Batch 4:  , Loss = 0.26220, Validation Accuracy = 0.6898\n",
      "Epoch  7, CIFAR-10 Batch 5:  , Loss = 0.18903, Validation Accuracy = 0.6760\n",
      "Epoch  8, CIFAR-10 Batch 1:  , Loss = 0.25853, Validation Accuracy = 0.7092\n",
      "Epoch  8, CIFAR-10 Batch 2:  , Loss = 0.23228, Validation Accuracy = 0.6898\n",
      "Epoch  8, CIFAR-10 Batch 3:  , Loss = 0.13363, Validation Accuracy = 0.7044\n",
      "Epoch  8, CIFAR-10 Batch 4:  , Loss = 0.17014, Validation Accuracy = 0.7030\n",
      "Epoch  8, CIFAR-10 Batch 5:  , Loss = 0.12424, Validation Accuracy = 0.6788\n",
      "Epoch  9, CIFAR-10 Batch 1:  , Loss = 0.17055, Validation Accuracy = 0.7074\n",
      "Epoch  9, CIFAR-10 Batch 2:  , Loss = 0.17166, Validation Accuracy = 0.6772\n",
      "Epoch  9, CIFAR-10 Batch 3:  , Loss = 0.06058, Validation Accuracy = 0.6968\n",
      "Epoch  9, CIFAR-10 Batch 4:  , Loss = 0.15097, Validation Accuracy = 0.7056\n",
      "Epoch  9, CIFAR-10 Batch 5:  , Loss = 0.10477, Validation Accuracy = 0.6968\n",
      "Epoch 10, CIFAR-10 Batch 1:  , Loss = 0.18837, Validation Accuracy = 0.7062\n",
      "Epoch 10, CIFAR-10 Batch 2:  , Loss = 0.12702, Validation Accuracy = 0.6906\n",
      "Epoch 10, CIFAR-10 Batch 3:  , Loss = 0.04762, Validation Accuracy = 0.6942\n",
      "Epoch 10, CIFAR-10 Batch 4:  , Loss = 0.16232, Validation Accuracy = 0.6956\n",
      "Epoch 10, CIFAR-10 Batch 5:  , Loss = 0.05007, Validation Accuracy = 0.7062\n",
      "Epoch 11, CIFAR-10 Batch 1:  , Loss = 0.11022, Validation Accuracy = 0.7038\n",
      "Epoch 11, CIFAR-10 Batch 2:  , Loss = 0.11708, Validation Accuracy = 0.6996\n",
      "Epoch 11, CIFAR-10 Batch 3:  , Loss = 0.03383, Validation Accuracy = 0.7080\n",
      "Epoch 11, CIFAR-10 Batch 4:  , Loss = 0.09100, Validation Accuracy = 0.7008\n",
      "Epoch 11, CIFAR-10 Batch 5:  , Loss = 0.04457, Validation Accuracy = 0.6988\n",
      "Epoch 12, CIFAR-10 Batch 1:  , Loss = 0.06686, Validation Accuracy = 0.6954\n",
      "Epoch 12, CIFAR-10 Batch 2:  , Loss = 0.09015, Validation Accuracy = 0.6848\n",
      "Epoch 12, CIFAR-10 Batch 3:  , Loss = 0.04373, Validation Accuracy = 0.7070\n",
      "Epoch 12, CIFAR-10 Batch 4:  , Loss = 0.07839, Validation Accuracy = 0.6984\n",
      "Epoch 12, CIFAR-10 Batch 5:  , Loss = 0.03007, Validation Accuracy = 0.7000\n",
      "Epoch 13, CIFAR-10 Batch 1:  , Loss = 0.04161, Validation Accuracy = 0.7002\n",
      "Epoch 13, CIFAR-10 Batch 2:  , Loss = 0.09611, Validation Accuracy = 0.6954\n",
      "Epoch 13, CIFAR-10 Batch 3:  , Loss = 0.03852, Validation Accuracy = 0.6988\n",
      "Epoch 13, CIFAR-10 Batch 4:  , Loss = 0.03290, Validation Accuracy = 0.7008\n",
      "Epoch 13, CIFAR-10 Batch 5:  , Loss = 0.03534, Validation Accuracy = 0.6878\n",
      "Epoch 14, CIFAR-10 Batch 1:  , Loss = 0.03779, Validation Accuracy = 0.6998\n",
      "Epoch 14, CIFAR-10 Batch 2:  , Loss = 0.04878, Validation Accuracy = 0.6902\n",
      "Epoch 14, CIFAR-10 Batch 3:  , Loss = 0.03227, Validation Accuracy = 0.6880\n",
      "Epoch 14, CIFAR-10 Batch 4:  , Loss = 0.05459, Validation Accuracy = 0.6942\n",
      "Epoch 14, CIFAR-10 Batch 5:  , Loss = 0.02561, Validation Accuracy = 0.7086\n",
      "Epoch 15, CIFAR-10 Batch 1:  , Loss = 0.01640, Validation Accuracy = 0.6934\n",
      "Epoch 15, CIFAR-10 Batch 2:  , Loss = 0.03239, Validation Accuracy = 0.6976\n",
      "Epoch 15, CIFAR-10 Batch 3:  , Loss = 0.02535, Validation Accuracy = 0.7002\n",
      "Epoch 15, CIFAR-10 Batch 4:  , Loss = 0.02471, Validation Accuracy = 0.6860\n",
      "Epoch 15, CIFAR-10 Batch 5:  , Loss = 0.02116, Validation Accuracy = 0.7088\n",
      "Epoch 16, CIFAR-10 Batch 1:  , Loss = 0.01267, Validation Accuracy = 0.6992\n",
      "Epoch 16, CIFAR-10 Batch 2:  , Loss = 0.02217, Validation Accuracy = 0.6788\n",
      "Epoch 16, CIFAR-10 Batch 3:  , Loss = 0.00863, Validation Accuracy = 0.7102\n",
      "Epoch 16, CIFAR-10 Batch 4:  , Loss = 0.01540, Validation Accuracy = 0.6974\n",
      "Epoch 16, CIFAR-10 Batch 5:  , Loss = 0.01863, Validation Accuracy = 0.7000\n",
      "Epoch 17, CIFAR-10 Batch 1:  , Loss = 0.01452, Validation Accuracy = 0.7056\n",
      "Epoch 17, CIFAR-10 Batch 2:  , Loss = 0.01520, Validation Accuracy = 0.6774\n",
      "Epoch 17, CIFAR-10 Batch 3:  , Loss = 0.01567, Validation Accuracy = 0.7004\n",
      "Epoch 17, CIFAR-10 Batch 4:  , Loss = 0.02118, Validation Accuracy = 0.6948\n",
      "Epoch 17, CIFAR-10 Batch 5:  , Loss = 0.00660, Validation Accuracy = 0.6928\n",
      "Epoch 18, CIFAR-10 Batch 1:  , Loss = 0.01505, Validation Accuracy = 0.6892\n",
      "Epoch 18, CIFAR-10 Batch 2:  , Loss = 0.00959, Validation Accuracy = 0.6712\n",
      "Epoch 18, CIFAR-10 Batch 3:  , Loss = 0.00884, Validation Accuracy = 0.6952\n",
      "Epoch 18, CIFAR-10 Batch 4:  , Loss = 0.01336, Validation Accuracy = 0.7102\n",
      "Epoch 18, CIFAR-10 Batch 5:  , Loss = 0.00852, Validation Accuracy = 0.6916\n",
      "Epoch 19, CIFAR-10 Batch 1:  , Loss = 0.02316, Validation Accuracy = 0.6724\n",
      "Epoch 19, CIFAR-10 Batch 2:  , Loss = 0.00876, Validation Accuracy = 0.6876\n",
      "Epoch 19, CIFAR-10 Batch 3:  , Loss = 0.01260, Validation Accuracy = 0.6928\n",
      "Epoch 19, CIFAR-10 Batch 4:  , Loss = 0.01198, Validation Accuracy = 0.6872\n",
      "Epoch 19, CIFAR-10 Batch 5:  , Loss = 0.00718, Validation Accuracy = 0.6972\n",
      "Epoch 20, CIFAR-10 Batch 1:  , Loss = 0.01413, Validation Accuracy = 0.6762\n",
      "Epoch 20, CIFAR-10 Batch 2:  , Loss = 0.00670, Validation Accuracy = 0.6904\n",
      "Epoch 20, CIFAR-10 Batch 3:  , Loss = 0.00270, Validation Accuracy = 0.6936\n",
      "Epoch 20, CIFAR-10 Batch 4:  , Loss = 0.00498, Validation Accuracy = 0.6976\n",
      "Epoch 20, CIFAR-10 Batch 5:  , Loss = 0.00596, Validation Accuracy = 0.6970\n",
      "Epoch 21, CIFAR-10 Batch 1:  , Loss = 0.01519, Validation Accuracy = 0.6794\n",
      "Epoch 21, CIFAR-10 Batch 2:  , Loss = 0.01034, Validation Accuracy = 0.7026\n",
      "Epoch 21, CIFAR-10 Batch 3:  , Loss = 0.00236, Validation Accuracy = 0.7136\n",
      "Epoch 21, CIFAR-10 Batch 4:  , Loss = 0.00920, Validation Accuracy = 0.7142\n",
      "Epoch 21, CIFAR-10 Batch 5:  , Loss = 0.00286, Validation Accuracy = 0.6994\n",
      "Epoch 22, CIFAR-10 Batch 1:  , Loss = 0.01377, Validation Accuracy = 0.6958\n",
      "Epoch 22, CIFAR-10 Batch 2:  , Loss = 0.00978, Validation Accuracy = 0.7002\n",
      "Epoch 22, CIFAR-10 Batch 3:  , Loss = 0.00305, Validation Accuracy = 0.7072\n",
      "Epoch 22, CIFAR-10 Batch 4:  , Loss = 0.00715, Validation Accuracy = 0.7062\n",
      "Epoch 22, CIFAR-10 Batch 5:  , Loss = 0.00390, Validation Accuracy = 0.7006\n",
      "Epoch 23, CIFAR-10 Batch 1:  , Loss = 0.01024, Validation Accuracy = 0.6864\n",
      "Epoch 23, CIFAR-10 Batch 2:  , Loss = 0.01195, Validation Accuracy = 0.7070\n",
      "Epoch 23, CIFAR-10 Batch 3:  , Loss = 0.00403, Validation Accuracy = 0.6996\n",
      "Epoch 23, CIFAR-10 Batch 4:  , Loss = 0.00582, Validation Accuracy = 0.7118\n",
      "Epoch 23, CIFAR-10 Batch 5:  , Loss = 0.00496, Validation Accuracy = 0.6950\n",
      "Epoch 24, CIFAR-10 Batch 1:  , Loss = 0.00542, Validation Accuracy = 0.6984\n",
      "Epoch 24, CIFAR-10 Batch 2:  , Loss = 0.00302, Validation Accuracy = 0.6908\n",
      "Epoch 24, CIFAR-10 Batch 3:  , Loss = 0.00381, Validation Accuracy = 0.7008\n",
      "Epoch 24, CIFAR-10 Batch 4:  , Loss = 0.00434, Validation Accuracy = 0.6880\n",
      "Epoch 24, CIFAR-10 Batch 5:  , Loss = 0.00715, Validation Accuracy = 0.6998\n",
      "Epoch 25, CIFAR-10 Batch 1:  , Loss = 0.00562, Validation Accuracy = 0.6864\n",
      "Epoch 25, CIFAR-10 Batch 2:  , Loss = 0.00404, Validation Accuracy = 0.6968\n",
      "Epoch 25, CIFAR-10 Batch 3:  , Loss = 0.00149, Validation Accuracy = 0.7072\n",
      "Epoch 25, CIFAR-10 Batch 4:  , Loss = 0.02653, Validation Accuracy = 0.7072\n",
      "Epoch 25, CIFAR-10 Batch 5:  , Loss = 0.00411, Validation Accuracy = 0.7204\n",
      "Epoch 26, CIFAR-10 Batch 1:  , Loss = 0.00197, Validation Accuracy = 0.7012\n",
      "Epoch 26, CIFAR-10 Batch 2:  , Loss = 0.00542, Validation Accuracy = 0.7060\n",
      "Epoch 26, CIFAR-10 Batch 3:  , Loss = 0.00310, Validation Accuracy = 0.7162\n",
      "Epoch 26, CIFAR-10 Batch 4:  , Loss = 0.00367, Validation Accuracy = 0.7032\n",
      "Epoch 26, CIFAR-10 Batch 5:  , Loss = 0.00063, Validation Accuracy = 0.7116\n"
     ]
    }
   ],
   "source": [
    "\"\"\"\n",
    "DON'T MODIFY ANYTHING IN THIS CELL\n",
    "\"\"\"\n",
    "save_model_path = './image_classification'\n",
    "\n",
    "print('Training...')\n",
    "with tf.Session() as sess:\n",
    "    # Initializing the variables\n",
    "    sess.run(tf.global_variables_initializer())\n",
    "    \n",
    "    # Training cycle\n",
    "    for epoch in range(epochs):\n",
    "        # Loop over all batches\n",
    "        n_batches = 5\n",
    "        for batch_i in range(1, n_batches + 1):\n",
    "            for batch_features, batch_labels in helper.load_preprocess_training_batch(batch_i, batch_size):\n",
    "                train_neural_network(sess, optimizer, keep_probability, batch_features, batch_labels)\n",
    "            print('Epoch {:>2}, CIFAR-10 Batch {}:  '.format(epoch + 1, batch_i), end='')\n",
    "            print_stats(sess, batch_features, batch_labels, cost, accuracy)\n",
    "            \n",
    "    # Save Model\n",
    "    saver = tf.train.Saver()\n",
    "    save_path = saver.save(sess, save_model_path)"
   ]
  },
  {
   "cell_type": "markdown",
   "metadata": {
    "deletable": true,
    "editable": true
   },
   "source": [
    "# Checkpoint\n",
    "The model has been saved to disk.\n",
    "## Test Model\n",
    "Test your model against the test dataset.  This will be your final accuracy. You should have an accuracy greater than 50%. If you don't, keep tweaking the model architecture and parameters."
   ]
  },
  {
   "cell_type": "code",
   "execution_count": 23,
   "metadata": {
    "collapsed": false,
    "deletable": true,
    "editable": true
   },
   "outputs": [
    {
     "name": "stdout",
     "output_type": "stream",
     "text": [
      "Testing Accuracy: 0.7020371835443038\n",
      "\n"
     ]
    },
    {
     "data": {
      "image/png": "[encoded data removed]",
      "text/plain": [
       "<matplotlib.figure.Figure at 0x7fdafc7b46a0>"
      ]
     },
     "metadata": {
      "image/png": {
       "height": 319,
       "width": 355
      }
     },
     "output_type": "display_data"
    }
   ],
   "source": [
    "\"\"\"\n",
    "DON'T MODIFY ANYTHING IN THIS CELL\n",
    "\"\"\"\n",
    "%matplotlib inline\n",
    "%config InlineBackend.figure_format = 'retina'\n",
    "\n",
    "import tensorflow as tf\n",
    "import pickle\n",
    "import helper\n",
    "import random\n",
    "\n",
    "# Set batch size if not already set\n",
    "try:\n",
    "    if batch_size:\n",
    "        pass\n",
    "except NameError:\n",
    "    batch_size = 64\n",
    "\n",
    "save_model_path = './image_classification'\n",
    "n_samples = 4\n",
    "top_n_predictions = 3\n",
    "\n",
    "def test_model():\n",
    "    \"\"\"\n",
    "    Test the saved model against the test dataset\n",
    "    \"\"\"\n",
    "\n",
    "    test_features, test_labels = pickle.load(open('preprocess_test.p', mode='rb'))\n",
    "    loaded_graph = tf.Graph()\n",
    "\n",
    "    with tf.Session(graph=loaded_graph) as sess:\n",
    "        # Load model\n",
    "        loader = tf.train.import_meta_graph(save_model_path + '.meta')\n",
    "        loader.restore(sess, save_model_path)\n",
    "\n",
    "        # Get Tensors from loaded model\n",
    "        loaded_x = loaded_graph.get_tensor_by_name('x:0')\n",
    "        loaded_y = loaded_graph.get_tensor_by_name('y:0')\n",
    "        loaded_keep_prob = loaded_graph.get_tensor_by_name('keep_prob:0')\n",
    "        loaded_logits = loaded_graph.get_tensor_by_name('logits:0')\n",
    "        loaded_acc = loaded_graph.get_tensor_by_name('accuracy:0')\n",
    "        \n",
    "        # Get accuracy in batches for memory limitations\n",
    "        test_batch_acc_total = 0\n",
    "        test_batch_count = 0\n",
    "        \n",
    "        for test_feature_batch, test_label_batch in helper.batch_features_labels(test_features, test_labels, batch_size):\n",
    "            test_batch_acc_total += sess.run(\n",
    "                loaded_acc,\n",
    "                feed_dict={loaded_x: test_feature_batch, loaded_y: test_label_batch, loaded_keep_prob: 1.0})\n",
    "            test_batch_count += 1\n",
    "\n",
    "        print('Testing Accuracy: {}\\n'.format(test_batch_acc_total/test_batch_count))\n",
    "\n",
    "        # Print Random Samples\n",
    "        random_test_features, random_test_labels = tuple(zip(*random.sample(list(zip(test_features, test_labels)), n_samples)))\n",
    "        random_test_predictions = sess.run(\n",
    "            tf.nn.top_k(tf.nn.softmax(loaded_logits), top_n_predictions),\n",
    "            feed_dict={loaded_x: random_test_features, loaded_y: random_test_labels, loaded_keep_prob: 1.0})\n",
    "        helper.display_image_predictions(random_test_features, random_test_labels, random_test_predictions)\n",
    "\n",
    "\n",
    "test_model()"
   ]
  },
  {
   "cell_type": "markdown",
   "metadata": {
    "deletable": true,
    "editable": true
   },
   "source": [
    "## Why 50-80% Accuracy?\n",
    "You might be wondering why you can't get an accuracy any higher. First things first, 50% isn't bad for a simple CNN.  Pure guessing would get you 10% accuracy. However, you might notice people are getting scores [well above 80%](http://rodrigob.github.io/are_we_there_yet/build/classification_datasets_results.html#43494641522d3130).  That's because we haven't taught you all there is to know about neural networks. We still need to cover a few more techniques.\n",
    "## Submitting This Project\n",
    "When submitting this project, make sure to run all the cells before saving the notebook.  Save the notebook file as \"dlnd_image_classification.ipynb\" and save it as a HTML file under \"File\" -> \"Download as\".  Include the \"helper.py\" and \"problem_unittests.py\" files in your submission."
   ]
  },
  {
   "cell_type": "code",
   "execution_count": null,
   "metadata": {
    "collapsed": true
   },
   "outputs": [],
   "source": []
  }
 ],
 "metadata": {
  "kernelspec": {
   "display_name": "Python 3",
   "language": "python",
   "name": "python3"
  },
  "language_info": {
   "codemirror_mode": {
    "name": "ipython",
    "version": 3
   },
   "file_extension": ".py",
   "mimetype": "text/x-python",
   "name": "python",
   "nbconvert_exporter": "python",
   "pygments_lexer": "ipython3",
   "version": "3.5.2"
  },
  "widgets": {
   "state": {},
   "version": "1.1.2"
  }
 },
 "nbformat": 4,
 "nbformat_minor": 0
}
